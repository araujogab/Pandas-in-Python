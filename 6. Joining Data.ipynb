{
 "cells": [
  {
   "cell_type": "markdown",
   "id": "6c32fb3e",
   "metadata": {},
   "source": [
    "# Joining Data with Pandas"
   ]
  },
  {
   "cell_type": "markdown",
   "id": "32d49073",
   "metadata": {},
   "source": [
    "Joining data with pandas is a fundamental operation when working with tabular data in Python. Pandas provides several methods for combining datasets based on common columns or indices. "
   ]
  },
  {
   "cell_type": "markdown",
   "id": "2cfbd85a",
   "metadata": {},
   "source": [
    "### Inner Join\n",
    "\n",
    "An inner join in pandas combines two DataFrames based on a common column (or columns) and returns only the rows where there is a match in both DataFrames. This operation is analogous to the SQL INNER JOIN"
   ]
  },
  {
   "cell_type": "code",
   "execution_count": null,
   "id": "f55df8ec",
   "metadata": {},
   "outputs": [],
   "source": []
  }
 ],
 "metadata": {
  "kernelspec": {
   "display_name": "Python 3 (ipykernel)",
   "language": "python",
   "name": "python3"
  },
  "language_info": {
   "codemirror_mode": {
    "name": "ipython",
    "version": 3
   },
   "file_extension": ".py",
   "mimetype": "text/x-python",
   "name": "python",
   "nbconvert_exporter": "python",
   "pygments_lexer": "ipython3",
   "version": "3.11.3"
  }
 },
 "nbformat": 4,
 "nbformat_minor": 5
}
