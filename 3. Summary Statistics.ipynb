{
 "cells": [
  {
   "cell_type": "markdown",
   "id": "a660a838",
   "metadata": {},
   "source": [
    "# Summary Statistics"
   ]
  },
  {
   "cell_type": "markdown",
   "id": "2ac69aec",
   "metadata": {},
   "source": [
    "Provides various methods to calculate summary statistics on DataFrame columns or rows. Summary statistics help to get a quick overview of the data and understand its characteristics. Here are some common methods for computing summary statistics in pandas:"
   ]
  },
  {
   "cell_type": "code",
   "execution_count": 3,
   "id": "e7b8279d",
   "metadata": {},
   "outputs": [],
   "source": [
    "import pandas as pd"
   ]
  },
  {
   "cell_type": "code",
   "execution_count": 4,
   "id": "a8dbad1d",
   "metadata": {},
   "outputs": [
    {
     "data": {
      "text/html": [
       "<div>\n",
       "<style scoped>\n",
       "    .dataframe tbody tr th:only-of-type {\n",
       "        vertical-align: middle;\n",
       "    }\n",
       "\n",
       "    .dataframe tbody tr th {\n",
       "        vertical-align: top;\n",
       "    }\n",
       "\n",
       "    .dataframe thead th {\n",
       "        text-align: right;\n",
       "    }\n",
       "</style>\n",
       "<table border=\"1\" class=\"dataframe\">\n",
       "  <thead>\n",
       "    <tr style=\"text-align: right;\">\n",
       "      <th></th>\n",
       "      <th>name</th>\n",
       "      <th>breed</th>\n",
       "      <th>color</th>\n",
       "      <th>height_cm</th>\n",
       "      <th>weight_kg</th>\n",
       "      <th>age</th>\n",
       "    </tr>\n",
       "  </thead>\n",
       "  <tbody>\n",
       "    <tr>\n",
       "      <th>0</th>\n",
       "      <td>Paçoca</td>\n",
       "      <td>Labrador</td>\n",
       "      <td>Brown</td>\n",
       "      <td>56</td>\n",
       "      <td>25</td>\n",
       "      <td>5</td>\n",
       "    </tr>\n",
       "    <tr>\n",
       "      <th>1</th>\n",
       "      <td>Ivo</td>\n",
       "      <td>Poodle</td>\n",
       "      <td>Black</td>\n",
       "      <td>43</td>\n",
       "      <td>22</td>\n",
       "      <td>4</td>\n",
       "    </tr>\n",
       "    <tr>\n",
       "      <th>2</th>\n",
       "      <td>Lola</td>\n",
       "      <td>Schnauzer</td>\n",
       "      <td>Gray</td>\n",
       "      <td>49</td>\n",
       "      <td>23</td>\n",
       "      <td>4</td>\n",
       "    </tr>\n",
       "    <tr>\n",
       "      <th>3</th>\n",
       "      <td>Maracatu</td>\n",
       "      <td>King Cavalier</td>\n",
       "      <td>Brown</td>\n",
       "      <td>43</td>\n",
       "      <td>21</td>\n",
       "      <td>3</td>\n",
       "    </tr>\n",
       "    <tr>\n",
       "      <th>4</th>\n",
       "      <td>Chantal</td>\n",
       "      <td>Labrador</td>\n",
       "      <td>Black</td>\n",
       "      <td>59</td>\n",
       "      <td>29</td>\n",
       "      <td>6</td>\n",
       "    </tr>\n",
       "  </tbody>\n",
       "</table>\n",
       "</div>"
      ],
      "text/plain": [
       "       name          breed  color  height_cm  weight_kg  age\n",
       "0    Paçoca       Labrador  Brown         56         25    5\n",
       "1       Ivo         Poodle  Black         43         22    4\n",
       "2      Lola      Schnauzer   Gray         49         23    4\n",
       "3  Maracatu  King Cavalier  Brown         43         21    3\n",
       "4   Chantal       Labrador  Black         59         29    6"
      ]
     },
     "execution_count": 4,
     "metadata": {},
     "output_type": "execute_result"
    }
   ],
   "source": [
    "path = r\"C:\\Users\\Alysson\\Downloads\\database.xlsx\"\n",
    "\n",
    "data = pd.read_excel(path)\n",
    "data.head()"
   ]
  },
  {
   "cell_type": "code",
   "execution_count": 5,
   "id": "211f7b48",
   "metadata": {},
   "outputs": [
    {
     "data": {
      "text/plain": [
       "24.0"
      ]
     },
     "execution_count": 5,
     "metadata": {},
     "output_type": "execute_result"
    }
   ],
   "source": [
    "data['weight_kg'].mean()"
   ]
  },
  {
   "cell_type": "code",
   "execution_count": 6,
   "id": "918a2ea5",
   "metadata": {},
   "outputs": [
    {
     "data": {
      "text/html": [
       "<div>\n",
       "<style scoped>\n",
       "    .dataframe tbody tr th:only-of-type {\n",
       "        vertical-align: middle;\n",
       "    }\n",
       "\n",
       "    .dataframe tbody tr th {\n",
       "        vertical-align: top;\n",
       "    }\n",
       "\n",
       "    .dataframe thead th {\n",
       "        text-align: right;\n",
       "    }\n",
       "</style>\n",
       "<table border=\"1\" class=\"dataframe\">\n",
       "  <thead>\n",
       "    <tr style=\"text-align: right;\">\n",
       "      <th></th>\n",
       "      <th>weight_kg</th>\n",
       "    </tr>\n",
       "  </thead>\n",
       "  <tbody>\n",
       "    <tr>\n",
       "      <th>0</th>\n",
       "      <td>21</td>\n",
       "    </tr>\n",
       "    <tr>\n",
       "      <th>1</th>\n",
       "      <td>22</td>\n",
       "    </tr>\n",
       "    <tr>\n",
       "      <th>2</th>\n",
       "      <td>23</td>\n",
       "    </tr>\n",
       "    <tr>\n",
       "      <th>3</th>\n",
       "      <td>25</td>\n",
       "    </tr>\n",
       "    <tr>\n",
       "      <th>4</th>\n",
       "      <td>29</td>\n",
       "    </tr>\n",
       "  </tbody>\n",
       "</table>\n",
       "</div>"
      ],
      "text/plain": [
       "   weight_kg\n",
       "0         21\n",
       "1         22\n",
       "2         23\n",
       "3         25\n",
       "4         29"
      ]
     },
     "execution_count": 6,
     "metadata": {},
     "output_type": "execute_result"
    }
   ],
   "source": [
    "data[['weight_kg']].mode()"
   ]
  },
  {
   "cell_type": "code",
   "execution_count": 7,
   "id": "3ea7cccb",
   "metadata": {},
   "outputs": [
    {
     "data": {
      "text/plain": [
       "21"
      ]
     },
     "execution_count": 7,
     "metadata": {},
     "output_type": "execute_result"
    }
   ],
   "source": [
    "data['weight_kg'].min()"
   ]
  },
  {
   "cell_type": "code",
   "execution_count": 8,
   "id": "cb58bd56",
   "metadata": {},
   "outputs": [
    {
     "data": {
      "text/plain": [
       "29"
      ]
     },
     "execution_count": 8,
     "metadata": {},
     "output_type": "execute_result"
    }
   ],
   "source": [
    "data['weight_kg'].max()"
   ]
  },
  {
   "cell_type": "code",
   "execution_count": 9,
   "id": "07bf48d7",
   "metadata": {},
   "outputs": [
    {
     "data": {
      "text/plain": [
       "10.0"
      ]
     },
     "execution_count": 9,
     "metadata": {},
     "output_type": "execute_result"
    }
   ],
   "source": [
    "data['weight_kg'].var()"
   ]
  },
  {
   "cell_type": "code",
   "execution_count": 10,
   "id": "b2a9230b",
   "metadata": {},
   "outputs": [
    {
     "data": {
      "text/plain": [
       "3.1622776601683795"
      ]
     },
     "execution_count": 10,
     "metadata": {},
     "output_type": "execute_result"
    }
   ],
   "source": [
    "data['weight_kg'].std()"
   ]
  },
  {
   "cell_type": "code",
   "execution_count": 11,
   "id": "496f4f9f",
   "metadata": {},
   "outputs": [
    {
     "data": {
      "text/plain": [
       "22.2"
      ]
     },
     "execution_count": 11,
     "metadata": {},
     "output_type": "execute_result"
    }
   ],
   "source": [
    "def pct30(column):\n",
    "    return column.quantile(0.3)\n",
    "\n",
    "data['weight_kg'].agg(pct30)"
   ]
  },
  {
   "cell_type": "code",
   "execution_count": 12,
   "id": "16dc75a4",
   "metadata": {},
   "outputs": [
    {
     "data": {
      "text/plain": [
       "weight_kg    22.2\n",
       "height_cm    44.2\n",
       "dtype: float64"
      ]
     },
     "execution_count": 12,
     "metadata": {},
     "output_type": "execute_result"
    }
   ],
   "source": [
    "data[['weight_kg','height_cm']].agg(pct30)"
   ]
  },
  {
   "cell_type": "code",
   "execution_count": 13,
   "id": "5af9b323",
   "metadata": {},
   "outputs": [
    {
     "data": {
      "text/plain": [
       "pct30    22.2\n",
       "pct40    22.6\n",
       "Name: weight_kg, dtype: float64"
      ]
     },
     "execution_count": 13,
     "metadata": {},
     "output_type": "execute_result"
    }
   ],
   "source": [
    "def pct40(column):\n",
    "    return column.quantile(0.4)\n",
    "\n",
    "data['weight_kg'].agg([pct30,pct40])"
   ]
  },
  {
   "cell_type": "markdown",
   "id": "4902c43c",
   "metadata": {},
   "source": [
    "## Cumulative Statistics"
   ]
  },
  {
   "cell_type": "markdown",
   "id": "ab986f46",
   "metadata": {},
   "source": [
    "The resulting series or DataFrame will display the intermediate cumulative results at each row."
   ]
  },
  {
   "cell_type": "code",
   "execution_count": 15,
   "id": "f8acd068",
   "metadata": {},
   "outputs": [
    {
     "data": {
      "text/plain": [
       "0     25\n",
       "1     47\n",
       "2     70\n",
       "3     91\n",
       "4    120\n",
       "Name: weight_kg, dtype: int64"
      ]
     },
     "execution_count": 15,
     "metadata": {},
     "output_type": "execute_result"
    }
   ],
   "source": [
    "data['weight_kg'].cumsum()"
   ]
  },
  {
   "cell_type": "code",
   "execution_count": 16,
   "id": "591958c6",
   "metadata": {},
   "outputs": [
    {
     "data": {
      "text/plain": [
       "0    25\n",
       "1    25\n",
       "2    25\n",
       "3    25\n",
       "4    29\n",
       "Name: weight_kg, dtype: int64"
      ]
     },
     "execution_count": 16,
     "metadata": {},
     "output_type": "execute_result"
    }
   ],
   "source": [
    "data['weight_kg'].cummax()"
   ]
  },
  {
   "cell_type": "code",
   "execution_count": 17,
   "id": "37c83367",
   "metadata": {},
   "outputs": [
    {
     "data": {
      "text/plain": [
       "0    25\n",
       "1    22\n",
       "2    22\n",
       "3    21\n",
       "4    21\n",
       "Name: weight_kg, dtype: int64"
      ]
     },
     "execution_count": 17,
     "metadata": {},
     "output_type": "execute_result"
    }
   ],
   "source": [
    "data['weight_kg'].cummin()"
   ]
  },
  {
   "cell_type": "code",
   "execution_count": 18,
   "id": "84591e44",
   "metadata": {},
   "outputs": [
    {
     "data": {
      "text/plain": [
       "0         25\n",
       "1        550\n",
       "2      12650\n",
       "3     265650\n",
       "4    7703850\n",
       "Name: weight_kg, dtype: int64"
      ]
     },
     "execution_count": 18,
     "metadata": {},
     "output_type": "execute_result"
    }
   ],
   "source": [
    "data['weight_kg'].cumprod()"
   ]
  },
  {
   "cell_type": "code",
   "execution_count": null,
   "id": "d3b675ab",
   "metadata": {},
   "outputs": [],
   "source": []
  }
 ],
 "metadata": {
  "kernelspec": {
   "display_name": "Python 3 (ipykernel)",
   "language": "python",
   "name": "python3"
  },
  "language_info": {
   "codemirror_mode": {
    "name": "ipython",
    "version": 3
   },
   "file_extension": ".py",
   "mimetype": "text/x-python",
   "name": "python",
   "nbconvert_exporter": "python",
   "pygments_lexer": "ipython3",
   "version": "3.11.3"
  }
 },
 "nbformat": 4,
 "nbformat_minor": 5
}
